{
 "cells": [
  {
   "cell_type": "code",
   "execution_count": 2,
   "id": "1bf187f4-fa3d-4030-88b4-172a181e9483",
   "metadata": {},
   "outputs": [],
   "source": [
    "import matplotlib as plt\n",
    "import numpy as np\n",
    "import PIL\n",
    "import tensorflow as tf\n",
    "\n",
    "from tensorflow import keras\n",
    "from tensorflow.keras import layers\n",
    "from tensorflow.keras.models import Sequential"
   ]
  },
  {
   "cell_type": "code",
   "execution_count": 37,
   "id": "2b334676-4903-4a2c-bdca-099d9c935c83",
   "metadata": {},
   "outputs": [
    {
     "name": "stdout",
     "output_type": "stream",
     "text": [
      "Found 708 files belonging to 3 classes.\n",
      "Using 567 files for training.\n"
     ]
    }
   ],
   "source": [
    "data_dir = 'New_Train'\n",
    "train_ds = tf.keras.utils.image_dataset_from_directory(\n",
    "    data_dir,\n",
    "    validation_split = 0.2,\n",
    "    subset = \"training\",\n",
    "    seed = 123,\n",
    "    image_size = (28, 28),\n",
    "    batch_size = 16\n",
    ")\n"
   ]
  },
  {
   "cell_type": "code",
   "execution_count": 36,
   "id": "502dc220-84e3-4dc9-97de-e820f1602e43",
   "metadata": {},
   "outputs": [
    {
     "name": "stdout",
     "output_type": "stream",
     "text": [
      "Found 708 files belonging to 3 classes.\n",
      "Using 141 files for validation.\n"
     ]
    }
   ],
   "source": [
    "val_ds = tf.keras.utils.image_dataset_from_directory(\n",
    "    data_dir,\n",
    "    validation_split = 0.2,\n",
    "    subset = \"validation\",\n",
    "    seed = 123,\n",
    "    image_size = (28, 28),\n",
    "    batch_size = 16\n",
    ")\n",
    "\n"
   ]
  },
  {
   "cell_type": "code",
   "execution_count": 38,
   "id": "532e964d-4ae1-4e86-9267-cca3d0107f24",
   "metadata": {},
   "outputs": [
    {
     "name": "stdout",
     "output_type": "stream",
     "text": [
      "['Blank', 'Cross', 'Zeroes']\n"
     ]
    }
   ],
   "source": [
    "class_names = train_ds.class_names\n",
    "print(class_names)"
   ]
  },
  {
   "cell_type": "code",
   "execution_count": 10,
   "id": "b945ce86-d4d6-46fc-948c-922a79e1dda5",
   "metadata": {},
   "outputs": [
    {
     "data": {
      "image/png": "[encoded data removed]",
      "text/plain": [
       "<Figure size 1000x1000 with 5 Axes>"
      ]
     },
     "metadata": {},
     "output_type": "display_data"
    }
   ],
   "source": [
    "import matplotlib.pyplot as plt\n",
    "\n",
    "plt.figure(figsize=(10, 10))\n",
    "for images, labels in train_ds.take(1):\n",
    "  for i in range(5):\n",
    "    ax = plt.subplot(1, 5, i + 1)\n",
    "    plt.imshow(images[i].numpy().astype(\"uint8\"))\n",
    "    plt.title(class_names[labels[i]])\n",
    "    plt.axis(\"off\")"
   ]
  },
  {
   "cell_type": "code",
   "execution_count": 9,
   "id": "4eac0382-e03d-4d66-8237-101c9d4be449",
   "metadata": {},
   "outputs": [
    {
     "name": "stdout",
     "output_type": "stream",
     "text": [
      "(5, 28, 28, 3)\n",
      "(5,)\n"
     ]
    }
   ],
   "source": [
    "for image_batch, labels_batch in train_ds:\n",
    "  print(image_batch.shape)\n",
    "  print(labels_batch.shape)\n",
    "  break"
   ]
  },
  {
   "cell_type": "code",
   "execution_count": 27,
   "id": "791d6e94-2fa0-468e-aad3-8da782a32337",
   "metadata": {},
   "outputs": [],
   "source": [
    "AUTOTUNE = tf.data.AUTOTUNE\n",
    "\n",
    "train_ds = train_ds.cache().shuffle(1000).prefetch(buffer_size=AUTOTUNE)\n",
    "val_ds = val_ds.cache().prefetch(buffer_size=AUTOTUNE)"
   ]
  },
  {
   "cell_type": "code",
   "execution_count": 12,
   "id": "245a47ca-32cb-49ac-97c4-2e252bd383fc",
   "metadata": {},
   "outputs": [],
   "source": [
    "num_classes = len(class_names)\n",
    "\n",
    "model = Sequential([\n",
    "  layers.Rescaling(1./255, input_shape=(28, 28, 3)),\n",
    "  layers.Conv2D(16, 3, padding='same', activation='relu'),\n",
    "  layers.MaxPooling2D(),\n",
    "  layers.Conv2D(32, 3, padding='same', activation='relu'),\n",
    "  layers.MaxPooling2D(),\n",
    "  layers.Conv2D(64, 3, padding='same', activation='relu'),\n",
    "  layers.MaxPooling2D(),\n",
    "  layers.Flatten(),\n",
    "  layers.Dense(128, activation='relu'),\n",
    "  layers.Dense(num_classes)\n",
    "])"
   ]
  },
  {
   "cell_type": "code",
   "execution_count": 13,
   "id": "df7bbfb0-f07f-4caf-b831-1b7b1af65d66",
   "metadata": {},
   "outputs": [],
   "source": [
    "model.compile(optimizer='adam',\n",
    "              loss=tf.keras.losses.SparseCategoricalCrossentropy(from_logits=True),\n",
    "              metrics=['accuracy'])"
   ]
  },
  {
   "cell_type": "code",
   "execution_count": 14,
   "id": "068e3e8f-c8f3-4873-ab4c-e18dc28f5330",
   "metadata": {},
   "outputs": [
    {
     "name": "stdout",
     "output_type": "stream",
     "text": [
      "Model: \"sequential\"\n",
      "_________________________________________________________________\n",
      " Layer (type)                Output Shape              Param #   \n",
      "=================================================================\n",
      " rescaling (Rescaling)       (None, 28, 28, 3)         0         \n",
      "                                                                 \n",
      " conv2d (Conv2D)             (None, 28, 28, 16)        448       \n",
      "                                                                 \n",
      " max_pooling2d (MaxPooling2  (None, 14, 14, 16)        0         \n",
      " D)                                                              \n",
      "                                                                 \n",
      " conv2d_1 (Conv2D)           (None, 14, 14, 32)        4640      \n",
      "                                                                 \n",
      " max_pooling2d_1 (MaxPoolin  (None, 7, 7, 32)          0         \n",
      " g2D)                                                            \n",
      "                                                                 \n",
      " conv2d_2 (Conv2D)           (None, 7, 7, 64)          18496     \n",
      "                                                                 \n",
      " max_pooling2d_2 (MaxPoolin  (None, 3, 3, 64)          0         \n",
      " g2D)                                                            \n",
      "                                                                 \n",
      " flatten (Flatten)           (None, 576)               0         \n",
      "                                                                 \n",
      " dense (Dense)               (None, 128)               73856     \n",
      "                                                                 \n",
      " dense_1 (Dense)             (None, 2)                 258       \n",
      "                                                                 \n",
      "=================================================================\n",
      "Total params: 97698 (381.63 KB)\n",
      "Trainable params: 97698 (381.63 KB)\n",
      "Non-trainable params: 0 (0.00 Byte)\n",
      "_________________________________________________________________\n"
     ]
    }
   ],
   "source": [
    "model.summary()"
   ]
  },
  {
   "cell_type": "code",
   "execution_count": 12,
   "id": "91c284b3-c1ba-4d7e-a289-8aac30936870",
   "metadata": {},
   "outputs": [
    {
     "ename": "NameError",
     "evalue": "name 'model' is not defined",
     "output_type": "error",
     "traceback": [
      "\u001b[1;31m---------------------------------------------------------------------------\u001b[0m",
      "\u001b[1;31mNameError\u001b[0m                                 Traceback (most recent call last)",
      "Cell \u001b[1;32mIn[12], line 2\u001b[0m\n\u001b[0;32m      1\u001b[0m epochs \u001b[38;5;241m=\u001b[39m \u001b[38;5;241m10\u001b[39m\n\u001b[1;32m----> 2\u001b[0m history \u001b[38;5;241m=\u001b[39m \u001b[43mmodel\u001b[49m\u001b[38;5;241m.\u001b[39mfit(\n\u001b[0;32m      3\u001b[0m     train_ds,\n\u001b[0;32m      4\u001b[0m     validation_data \u001b[38;5;241m=\u001b[39m val_ds,\n\u001b[0;32m      5\u001b[0m     epochs \u001b[38;5;241m=\u001b[39m epochs\n\u001b[0;32m      6\u001b[0m )\n\u001b[0;32m      7\u001b[0m num_classes \u001b[38;5;241m=\u001b[39m \u001b[38;5;28mlen\u001b[39m(class_names)\n",
      "\u001b[1;31mNameError\u001b[0m: name 'model' is not defined"
     ]
    }
   ],
   "source": [
    "epochs = 10\n",
    "history = model.fit(\n",
    "    train_ds,\n",
    "    validation_data = val_ds,\n",
    "    epochs = epochs\n",
    ")\n",
    "num_classes = len(class_names)"
   ]
  },
  {
   "cell_type": "code",
   "execution_count": 39,
   "id": "36b85faf-5857-4ad6-a7ab-a0646829d481",
   "metadata": {},
   "outputs": [],
   "source": [
    "img_height = 28\n",
    "img_width = 28\n",
    "num_classes = len(class_names)\n",
    "data_augmentation = keras.Sequential(\n",
    "  [\n",
    "    layers.RandomFlip(\"horizontal\",\n",
    "                      input_shape=(img_height,\n",
    "                                  img_width,\n",
    "                                  3)),\n",
    "    layers.RandomFlip(\"vertical\",\n",
    "                      input_shape=(img_height,\n",
    "                                  img_width,\n",
    "                                  3)),\n",
    "    layers.RandomRotation(0.1),\n",
    "    layers.RandomZoom(0.1),\n",
    "  ]\n",
    ")"
   ]
  },
  {
   "cell_type": "code",
   "execution_count": 91,
   "id": "64e6f0f4-74de-4d36-9717-d85c538cb922",
   "metadata": {},
   "outputs": [],
   "source": [
    "\n",
    "model = Sequential([\n",
    "  data_augmentation,\n",
    "  layers.Rescaling(1./255),\n",
    "  layers.Conv2D(16, 3, padding='same', activation='relu'),\n",
    "  layers.MaxPooling2D(),\n",
    "  layers.Conv2D(32, 3, padding='same', activation='relu'),\n",
    "  layers.MaxPooling2D(),\n",
    "  layers.Conv2D(64, 3, padding='same', activation='relu'),\n",
    "  layers.MaxPooling2D(),\n",
    "  layers.Dropout(0.5),\n",
    "  layers.Flatten(),\n",
    "  layers.Dense(64, activation='softmax'),\n",
    "  layers.Dense(num_classes, name=\"outputs\")\n",
    "])"
   ]
  },
  {
   "cell_type": "code",
   "execution_count": 92,
   "id": "a6ee5814-77e2-4d1d-9531-eca56a58b127",
   "metadata": {},
   "outputs": [],
   "source": [
    "model.compile(optimizer='rmsprop',\n",
    "              loss=tf.keras.losses.SparseCategoricalCrossentropy(from_logits=True),\n",
    "              metrics=['accuracy'])"
   ]
  },
  {
   "cell_type": "code",
   "execution_count": 34,
   "id": "99eefa55-ab45-4039-96d3-14a39e955258",
   "metadata": {},
   "outputs": [
    {
     "name": "stdout",
     "output_type": "stream",
     "text": [
      "Model: \"sequential_3\"\n",
      "_________________________________________________________________\n",
      " Layer (type)                Output Shape              Param #   \n",
      "=================================================================\n",
      " sequential_1 (Sequential)   (None, 28, 28, 3)         0         \n",
      "                                                                 \n",
      " rescaling_2 (Rescaling)     (None, 28, 28, 3)         0         \n",
      "                                                                 \n",
      " conv2d_6 (Conv2D)           (None, 28, 28, 16)        448       \n",
      "                                                                 \n",
      " max_pooling2d_6 (MaxPoolin  (None, 14, 14, 16)        0         \n",
      " g2D)                                                            \n",
      "                                                                 \n",
      " conv2d_7 (Conv2D)           (None, 14, 14, 32)        4640      \n",
      "                                                                 \n",
      " max_pooling2d_7 (MaxPoolin  (None, 7, 7, 32)          0         \n",
      " g2D)                                                            \n",
      "                                                                 \n",
      " conv2d_8 (Conv2D)           (None, 7, 7, 64)          18496     \n",
      "                                                                 \n",
      " max_pooling2d_8 (MaxPoolin  (None, 3, 3, 64)          0         \n",
      " g2D)                                                            \n",
      "                                                                 \n",
      " dropout_1 (Dropout)         (None, 3, 3, 64)          0         \n",
      "                                                                 \n",
      " flatten_2 (Flatten)         (None, 576)               0         \n",
      "                                                                 \n",
      " dense_3 (Dense)             (None, 128)               73856     \n",
      "                                                                 \n",
      " outputs (Dense)             (None, 2)                 258       \n",
      "                                                                 \n",
      "=================================================================\n",
      "Total params: 97698 (381.63 KB)\n",
      "Trainable params: 97698 (381.63 KB)\n",
      "Non-trainable params: 0 (0.00 Byte)\n",
      "_________________________________________________________________\n"
     ]
    }
   ],
   "source": [
    "model.summary()\n"
   ]
  },
  {
   "cell_type": "code",
   "execution_count": null,
   "id": "3d75a8fb-13c0-4b94-a36f-9f2a06ed9ad7",
   "metadata": {},
   "outputs": [
    {
     "name": "stdout",
     "output_type": "stream",
     "text": [
      "Epoch 1/100\n",
      "36/36 [==============================] - 1s 10ms/step - loss: 1.0324 - accuracy: 0.5062 - val_loss: 0.9754 - val_accuracy: 0.6950\n",
      "Epoch 2/100\n",
      "36/36 [==============================] - 0s 9ms/step - loss: 0.9396 - accuracy: 0.6473 - val_loss: 0.8910 - val_accuracy: 0.6950\n",
      "Epoch 3/100\n",
      "36/36 [==============================] - 0s 9ms/step - loss: 0.8950 - accuracy: 0.6526 - val_loss: 0.8628 - val_accuracy: 0.6950\n",
      "Epoch 4/100\n",
      "36/36 [==============================] - 0s 9ms/step - loss: 0.8710 - accuracy: 0.6526 - val_loss: 0.8439 - val_accuracy: 0.6950\n",
      "Epoch 5/100\n",
      "36/36 [==============================] - 0s 9ms/step - loss: 0.8527 - accuracy: 0.6526 - val_loss: 0.8268 - val_accuracy: 0.6950\n",
      "Epoch 6/100\n",
      "36/36 [==============================] - 0s 9ms/step - loss: 0.8359 - accuracy: 0.6526 - val_loss: 0.8110 - val_accuracy: 0.6950\n",
      "Epoch 7/100\n",
      "36/36 [==============================] - 0s 8ms/step - loss: 0.8203 - accuracy: 0.6526 - val_loss: 0.7959 - val_accuracy: 0.6950\n",
      "Epoch 8/100\n",
      "36/36 [==============================] - 0s 9ms/step - loss: 0.8055 - accuracy: 0.6526 - val_loss: 0.7816 - val_accuracy: 0.6950\n",
      "Epoch 9/100\n",
      "36/36 [==============================] - 0s 8ms/step - loss: 0.7915 - accuracy: 0.6526 - val_loss: 0.7680 - val_accuracy: 0.6950\n",
      "Epoch 10/100\n",
      "36/36 [==============================] - 0s 9ms/step - loss: 0.7782 - accuracy: 0.6526 - val_loss: 0.7547 - val_accuracy: 0.6950\n",
      "Epoch 11/100\n",
      "36/36 [==============================] - 0s 8ms/step - loss: 0.7654 - accuracy: 0.6526 - val_loss: 0.7420 - val_accuracy: 0.6950\n",
      "Epoch 12/100\n",
      "36/36 [==============================] - 0s 9ms/step - loss: 0.7532 - accuracy: 0.6526 - val_loss: 0.7298 - val_accuracy: 0.6950\n",
      "Epoch 13/100\n",
      "36/36 [==============================] - 0s 9ms/step - loss: 0.7413 - accuracy: 0.6526 - val_loss: 0.7178 - val_accuracy: 0.6950\n",
      "Epoch 14/100\n",
      "36/36 [==============================] - 0s 8ms/step - loss: 0.7303 - accuracy: 0.6526 - val_loss: 0.7070 - val_accuracy: 0.6950\n",
      "Epoch 15/100\n",
      "36/36 [==============================] - 0s 9ms/step - loss: 0.7197 - accuracy: 0.6526 - val_loss: 0.6964 - val_accuracy: 0.6950\n",
      "Epoch 16/100\n",
      "36/36 [==============================] - 0s 9ms/step - loss: 0.7095 - accuracy: 0.6526 - val_loss: 0.6862 - val_accuracy: 0.6950\n",
      "Epoch 17/100\n",
      "36/36 [==============================] - 0s 9ms/step - loss: 0.7000 - accuracy: 0.6526 - val_loss: 0.6764 - val_accuracy: 0.6950\n",
      "Epoch 18/100\n",
      "36/36 [==============================] - 0s 9ms/step - loss: 0.6909 - accuracy: 0.6526 - val_loss: 0.6672 - val_accuracy: 0.6950\n",
      "Epoch 19/100\n",
      "36/36 [==============================] - 0s 8ms/step - loss: 0.6820 - accuracy: 0.6526 - val_loss: 0.6584 - val_accuracy: 0.6950\n",
      "Epoch 20/100\n",
      "36/36 [==============================] - 0s 8ms/step - loss: 0.6736 - accuracy: 0.6526 - val_loss: 0.6499 - val_accuracy: 0.6950\n",
      "Epoch 21/100\n",
      "36/36 [==============================] - 0s 8ms/step - loss: 0.6656 - accuracy: 0.6526 - val_loss: 0.6417 - val_accuracy: 0.6950\n",
      "Epoch 22/100\n",
      "36/36 [==============================] - 0s 9ms/step - loss: 0.6581 - accuracy: 0.6526 - val_loss: 0.6341 - val_accuracy: 0.6950\n",
      "Epoch 23/100\n",
      "36/36 [==============================] - 0s 9ms/step - loss: 0.6509 - accuracy: 0.6526 - val_loss: 0.6269 - val_accuracy: 0.6950\n",
      "Epoch 24/100\n",
      "36/36 [==============================] - 0s 9ms/step - loss: 0.6442 - accuracy: 0.6526 - val_loss: 0.6202 - val_accuracy: 0.6950\n",
      "Epoch 25/100\n",
      "36/36 [==============================] - 0s 9ms/step - loss: 0.6377 - accuracy: 0.6526 - val_loss: 0.6136 - val_accuracy: 0.6950\n",
      "Epoch 26/100\n",
      "36/36 [==============================] - 0s 9ms/step - loss: 0.6315 - accuracy: 0.6526 - val_loss: 0.6073 - val_accuracy: 0.6950\n",
      "Epoch 27/100\n",
      "36/36 [==============================] - 0s 9ms/step - loss: 0.6256 - accuracy: 0.6526 - val_loss: 0.6014 - val_accuracy: 0.6950\n",
      "Epoch 28/100\n",
      "36/36 [==============================] - 0s 9ms/step - loss: 0.6200 - accuracy: 0.6526 - val_loss: 0.5958 - val_accuracy: 0.6950\n",
      "Epoch 29/100\n",
      "36/36 [==============================] - 0s 9ms/step - loss: 0.6147 - accuracy: 0.6526 - val_loss: 0.5905 - val_accuracy: 0.6950\n",
      "Epoch 30/100\n",
      "36/36 [==============================] - 0s 9ms/step - loss: 0.6097 - accuracy: 0.6526 - val_loss: 0.5851 - val_accuracy: 0.6950\n",
      "Epoch 31/100\n",
      "36/36 [==============================] - 0s 9ms/step - loss: 0.6049 - accuracy: 0.6526 - val_loss: 0.5802 - val_accuracy: 0.6950\n",
      "Epoch 32/100\n",
      "36/36 [==============================] - 0s 9ms/step - loss: 0.6003 - accuracy: 0.6526 - val_loss: 0.5756 - val_accuracy: 0.6950\n",
      "Epoch 33/100\n",
      "36/36 [==============================] - 0s 9ms/step - loss: 0.5959 - accuracy: 0.6526 - val_loss: 0.5711 - val_accuracy: 0.6950\n",
      "Epoch 34/100\n",
      "36/36 [==============================] - 0s 9ms/step - loss: 0.5918 - accuracy: 0.6526 - val_loss: 0.5667 - val_accuracy: 0.6950\n",
      "Epoch 35/100\n",
      "36/36 [==============================] - 0s 9ms/step - loss: 0.5879 - accuracy: 0.6526 - val_loss: 0.5626 - val_accuracy: 0.6950\n",
      "Epoch 36/100\n",
      "36/36 [==============================] - 0s 9ms/step - loss: 0.5841 - accuracy: 0.6526 - val_loss: 0.5593 - val_accuracy: 0.6950\n",
      "Epoch 37/100\n",
      "36/36 [==============================] - 0s 9ms/step - loss: 0.5807 - accuracy: 0.6526 - val_loss: 0.5559 - val_accuracy: 0.6950\n",
      "Epoch 38/100\n",
      "36/36 [==============================] - 0s 9ms/step - loss: 0.5774 - accuracy: 0.6526 - val_loss: 0.5524 - val_accuracy: 0.6950\n",
      "Epoch 39/100\n",
      "36/36 [==============================] - 0s 9ms/step - loss: 0.5741 - accuracy: 0.6526 - val_loss: 0.5494 - val_accuracy: 0.6950\n",
      "Epoch 40/100\n",
      "36/36 [==============================] - 0s 9ms/step - loss: 0.5711 - accuracy: 0.6526 - val_loss: 0.5463 - val_accuracy: 0.6950\n",
      "Epoch 41/100\n",
      "36/36 [==============================] - 0s 8ms/step - loss: 0.5683 - accuracy: 0.6526 - val_loss: 0.5433 - val_accuracy: 0.6950\n",
      "Epoch 42/100\n",
      "36/36 [==============================] - 0s 9ms/step - loss: 0.5656 - accuracy: 0.6526 - val_loss: 0.5408 - val_accuracy: 0.6950\n",
      "Epoch 43/100\n",
      "36/36 [==============================] - 0s 9ms/step - loss: 0.5630 - accuracy: 0.6526 - val_loss: 0.5381 - val_accuracy: 0.6950\n",
      "Epoch 44/100\n",
      "36/36 [==============================] - 0s 9ms/step - loss: 0.5605 - accuracy: 0.6526 - val_loss: 0.5355 - val_accuracy: 0.6950\n",
      "Epoch 45/100\n",
      "36/36 [==============================] - 0s 9ms/step - loss: 0.5580 - accuracy: 0.6526 - val_loss: 0.5331 - val_accuracy: 0.6950\n",
      "Epoch 46/100\n",
      "36/36 [==============================] - 0s 9ms/step - loss: 0.5558 - accuracy: 0.6526 - val_loss: 0.5309 - val_accuracy: 0.6950\n",
      "Epoch 47/100\n",
      "36/36 [==============================] - 0s 9ms/step - loss: 0.5537 - accuracy: 0.6526 - val_loss: 0.5287 - val_accuracy: 0.6950\n",
      "Epoch 48/100\n",
      "36/36 [==============================] - 0s 9ms/step - loss: 0.5517 - accuracy: 0.6526 - val_loss: 0.5268 - val_accuracy: 0.6950\n",
      "Epoch 49/100\n",
      "36/36 [==============================] - 0s 8ms/step - loss: 0.5497 - accuracy: 0.6526 - val_loss: 0.5249 - val_accuracy: 0.6950\n",
      "Epoch 50/100\n",
      "36/36 [==============================] - 0s 9ms/step - loss: 0.5479 - accuracy: 0.6526 - val_loss: 0.5228 - val_accuracy: 0.6950\n",
      "Epoch 51/100\n",
      "36/36 [==============================] - 0s 9ms/step - loss: 0.5461 - accuracy: 0.6526 - val_loss: 0.5210 - val_accuracy: 0.6950\n",
      "Epoch 52/100\n",
      "36/36 [==============================] - 0s 9ms/step - loss: 0.5444 - accuracy: 0.6526 - val_loss: 0.5193 - val_accuracy: 0.6950\n",
      "Epoch 53/100\n",
      "36/36 [==============================] - 0s 9ms/step - loss: 0.5428 - accuracy: 0.6526 - val_loss: 0.5178 - val_accuracy: 0.6950\n",
      "Epoch 54/100\n",
      "36/36 [==============================] - 0s 9ms/step - loss: 0.5414 - accuracy: 0.6526 - val_loss: 0.5161 - val_accuracy: 0.6950\n",
      "Epoch 55/100\n",
      "36/36 [==============================] - 0s 9ms/step - loss: 0.5400 - accuracy: 0.6526 - val_loss: 0.5147 - val_accuracy: 0.6950\n",
      "Epoch 56/100\n",
      "36/36 [==============================] - 0s 9ms/step - loss: 0.5386 - accuracy: 0.6526 - val_loss: 0.5134 - val_accuracy: 0.6950\n",
      "Epoch 57/100\n",
      "36/36 [==============================] - 0s 9ms/step - loss: 0.5373 - accuracy: 0.6526 - val_loss: 0.5122 - val_accuracy: 0.6950\n",
      "Epoch 58/100\n",
      "36/36 [==============================] - 0s 9ms/step - loss: 0.5361 - accuracy: 0.6526 - val_loss: 0.5109 - val_accuracy: 0.6950\n",
      "Epoch 59/100\n",
      "36/36 [==============================] - 0s 9ms/step - loss: 0.5349 - accuracy: 0.6526 - val_loss: 0.5095 - val_accuracy: 0.6950\n",
      "Epoch 60/100\n",
      "36/36 [==============================] - 0s 9ms/step - loss: 0.5338 - accuracy: 0.6526 - val_loss: 0.5084 - val_accuracy: 0.6950\n",
      "Epoch 61/100\n",
      "36/36 [==============================] - 0s 9ms/step - loss: 0.5327 - accuracy: 0.6526 - val_loss: 0.5073 - val_accuracy: 0.6950\n",
      "Epoch 62/100\n",
      "36/36 [==============================] - 0s 9ms/step - loss: 0.5318 - accuracy: 0.6526 - val_loss: 0.5063 - val_accuracy: 0.6950\n",
      "Epoch 63/100\n",
      "36/36 [==============================] - 0s 9ms/step - loss: 0.5308 - accuracy: 0.6526 - val_loss: 0.5052 - val_accuracy: 0.6950\n",
      "Epoch 64/100\n",
      "36/36 [==============================] - 0s 9ms/step - loss: 0.5298 - accuracy: 0.6526 - val_loss: 0.5042 - val_accuracy: 0.6950\n",
      "Epoch 65/100\n",
      "36/36 [==============================] - 0s 9ms/step - loss: 0.5290 - accuracy: 0.6526 - val_loss: 0.5035 - val_accuracy: 0.6950\n",
      "Epoch 66/100\n",
      "36/36 [==============================] - 0s 9ms/step - loss: 0.5282 - accuracy: 0.6526 - val_loss: 0.5027 - val_accuracy: 0.6950\n",
      "Epoch 67/100\n",
      "36/36 [==============================] - 0s 9ms/step - loss: 0.5274 - accuracy: 0.6526 - val_loss: 0.5020 - val_accuracy: 0.6950\n",
      "Epoch 68/100\n",
      "36/36 [==============================] - 0s 9ms/step - loss: 0.5267 - accuracy: 0.6526 - val_loss: 0.5013 - val_accuracy: 0.6950\n",
      "Epoch 69/100\n",
      "36/36 [==============================] - 0s 9ms/step - loss: 0.5260 - accuracy: 0.6526 - val_loss: 0.5007 - val_accuracy: 0.6950\n",
      "Epoch 70/100\n",
      "36/36 [==============================] - 0s 9ms/step - loss: 0.5253 - accuracy: 0.6526 - val_loss: 0.4999 - val_accuracy: 0.6950\n",
      "Epoch 71/100\n",
      "36/36 [==============================] - 0s 9ms/step - loss: 0.5246 - accuracy: 0.6526 - val_loss: 0.4994 - val_accuracy: 0.6950\n",
      "Epoch 72/100\n",
      "36/36 [==============================] - 0s 9ms/step - loss: 0.5241 - accuracy: 0.6526 - val_loss: 0.4987 - val_accuracy: 0.6950\n",
      "Epoch 73/100\n",
      "36/36 [==============================] - 0s 9ms/step - loss: 0.5235 - accuracy: 0.6526 - val_loss: 0.4980 - val_accuracy: 0.6950\n",
      "Epoch 74/100\n",
      "36/36 [==============================] - 0s 10ms/step - loss: 0.5229 - accuracy: 0.6526 - val_loss: 0.4974 - val_accuracy: 0.6950\n",
      "Epoch 75/100\n",
      "36/36 [==============================] - 0s 9ms/step - loss: 0.5224 - accuracy: 0.6526 - val_loss: 0.4969 - val_accuracy: 0.6950\n",
      "Epoch 76/100\n",
      "36/36 [==============================] - 0s 9ms/step - loss: 0.5219 - accuracy: 0.6526 - val_loss: 0.4965 - val_accuracy: 0.6950\n",
      "Epoch 77/100\n",
      "36/36 [==============================] - 0s 9ms/step - loss: 0.5214 - accuracy: 0.6526 - val_loss: 0.4962 - val_accuracy: 0.6950\n",
      "Epoch 78/100\n",
      "36/36 [==============================] - 0s 9ms/step - loss: 0.5210 - accuracy: 0.6526 - val_loss: 0.4958 - val_accuracy: 0.6950\n",
      "Epoch 79/100\n",
      "36/36 [==============================] - 0s 9ms/step - loss: 0.5206 - accuracy: 0.6526 - val_loss: 0.4953 - val_accuracy: 0.6950\n",
      "Epoch 80/100\n",
      "36/36 [==============================] - 0s 9ms/step - loss: 0.5202 - accuracy: 0.6526 - val_loss: 0.4947 - val_accuracy: 0.6950\n",
      "Epoch 81/100\n",
      "36/36 [==============================] - 0s 9ms/step - loss: 0.5198 - accuracy: 0.6526 - val_loss: 0.4945 - val_accuracy: 0.6950\n",
      "Epoch 82/100\n",
      "36/36 [==============================] - 0s 9ms/step - loss: 0.5194 - accuracy: 0.6526 - val_loss: 0.4942 - val_accuracy: 0.6950\n",
      "Epoch 83/100\n",
      "36/36 [==============================] - 0s 9ms/step - loss: 0.5191 - accuracy: 0.6526 - val_loss: 0.4937 - val_accuracy: 0.6950\n",
      "Epoch 84/100\n",
      "36/36 [==============================] - 0s 9ms/step - loss: 0.5187 - accuracy: 0.6526 - val_loss: 0.4932 - val_accuracy: 0.6950\n",
      "Epoch 85/100\n",
      "36/36 [==============================] - 0s 9ms/step - loss: 0.5183 - accuracy: 0.6526 - val_loss: 0.4932 - val_accuracy: 0.6950\n",
      "Epoch 86/100\n",
      "36/36 [==============================] - 0s 9ms/step - loss: 0.5181 - accuracy: 0.6526 - val_loss: 0.4929 - val_accuracy: 0.6950\n",
      "Epoch 87/100\n",
      "36/36 [==============================] - 0s 9ms/step - loss: 0.5178 - accuracy: 0.6526 - val_loss: 0.4928 - val_accuracy: 0.6950\n",
      "Epoch 88/100\n",
      "36/36 [==============================] - 0s 9ms/step - loss: 0.5175 - accuracy: 0.6526 - val_loss: 0.4924 - val_accuracy: 0.6950\n",
      "Epoch 89/100\n",
      "36/36 [==============================] - 0s 9ms/step - loss: 0.5173 - accuracy: 0.6526 - val_loss: 0.4921 - val_accuracy: 0.6950\n",
      "Epoch 90/100\n",
      "36/36 [==============================] - 0s 9ms/step - loss: 0.5171 - accuracy: 0.6526 - val_loss: 0.4919 - val_accuracy: 0.6950\n",
      "Epoch 91/100\n",
      "36/36 [==============================] - 0s 9ms/step - loss: 0.5168 - accuracy: 0.6526 - val_loss: 0.4916 - val_accuracy: 0.6950\n",
      "Epoch 92/100\n",
      "36/36 [==============================] - 0s 9ms/step - loss: 0.5166 - accuracy: 0.6526 - val_loss: 0.4913 - val_accuracy: 0.6950\n",
      "Epoch 93/100\n",
      "36/36 [==============================] - 0s 9ms/step - loss: 0.5164 - accuracy: 0.6526 - val_loss: 0.4909 - val_accuracy: 0.6950\n",
      "Epoch 94/100\n",
      "36/36 [==============================] - 0s 9ms/step - loss: 0.5161 - accuracy: 0.6526 - val_loss: 0.4907 - val_accuracy: 0.6950\n",
      "Epoch 95/100\n",
      "15/36 [===========>..................] - ETA: 0s - loss: 0.4861 - accuracy: 0.6875"
     ]
    }
   ],
   "source": [
    "epochs = 100\n",
    "history = model.fit(\n",
    "  train_ds,\n",
    "  validation_data=val_ds,\n",
    "  epochs=epochs\n",
    ")"
   ]
  },
  {
   "cell_type": "code",
   "execution_count": 44,
   "id": "bb97ef16-db60-4256-b869-4d8233a2d77b",
   "metadata": {},
   "outputs": [
    {
     "name": "stdout",
     "output_type": "stream",
     "text": [
      "1/1 [==============================] - 0s 30ms/step\n",
      "This image most likely belongs to Cross with a 67.55 percent confidence.\n"
     ]
    }
   ],
   "source": [
    "img = tf.keras.utils.load_img(\n",
    "    'Train/Cross/183.png',\n",
    "    target_size  = (28, 28)\n",
    ")\n",
    "img_array = tf.keras.utils.img_to_array(img)\n",
    "img_array = tf.expand_dims(img_array, 0)\n",
    "\n",
    "predictions = model.predict(img_array)\n",
    "score = tf.nn.softmax(predictions[0])\n",
    "\n",
    "print(\n",
    "    \"This image most likely belongs to {} with a {:.2f} percent confidence.\"\n",
    "    .format(class_names[np.argmax(score)], 100 * np.max(score))\n",
    ")"
   ]
  },
  {
   "cell_type": "code",
   "execution_count": 90,
   "id": "344e7579-4357-4ef7-971f-6368de020a58",
   "metadata": {},
   "outputs": [],
   "source": [
    "model.save(\"jupyter-model-3.keras\")"
   ]
  },
  {
   "cell_type": "code",
   "execution_count": null,
   "id": "78aa3067-7f7a-4052-a93d-870f3a5d2340",
   "metadata": {},
   "outputs": [],
   "source": []
  },
  {
   "cell_type": "code",
   "execution_count": null,
   "id": "2e65f8db-787d-4fe3-82c4-d0b8437362f1",
   "metadata": {},
   "outputs": [],
   "source": []
  }
 ],
 "metadata": {
  "kernelspec": {
   "display_name": "Python 3 (ipykernel)",
   "language": "python",
   "name": "python3"
  },
  "language_info": {
   "codemirror_mode": {
    "name": "ipython",
    "version": 3
   },
   "file_extension": ".py",
   "mimetype": "text/x-python",
   "name": "python",
   "nbconvert_exporter": "python",
   "pygments_lexer": "ipython3",
   "version": "3.11.5"
  }
 },
 "nbformat": 4,
 "nbformat_minor": 5
}
